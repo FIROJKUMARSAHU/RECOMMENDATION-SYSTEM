{
 "cells": [
  {
   "cell_type": "code",
   "execution_count": null,
   "id": "dd826c89-53b2-4de6-8fef-54b18e3bc9ba",
   "metadata": {},
   "outputs": [],
   "source": [
    "# ================================\n",
    "# RECOMMENDATION SYSTEM DEMO\n",
    "# ================================\n",
    "\n",
    "import pandas as pd\n",
    "from sklearn.metrics.pairwise import cosine_similarity\n",
    "from sklearn.feature_extraction.text import TfidfVectorizer\n",
    "\n",
    "# ---------------------------\n",
    "# Content-Based Filtering\n",
    "# ---------------------------\n",
    "\n",
    "movies = pd.DataFrame({\n",
    "    \"Title\": [\"Inception\", \"Avatar\", \"Titanic\", \"The Matrix\", \"Interstellar\"],\n",
    "    \"Genre\": [\"Sci-Fi Thriller\", \"Sci-Fi Adventure\", \"Romance Drama\", \"Sci-Fi Action\", \"Sci-Fi Space\"]\n",
    "})\n",
    "\n",
    "print(\"\\nMovie Dataset:\")\n",
    "display(movies)\n",
    "\n",
    "# Convert genres to TF-IDF vectors\n",
    "tfidf = TfidfVectorizer(stop_words=\"english\")\n",
    "tfidf_matrix = tfidf.fit_transform(movies[\"Genre\"])\n",
    "\n",
    "# Compute cosine similarity\n",
    "cosine_sim = cosine_similarity(tfidf_matrix, tfidf_matrix)\n",
    "\n",
    "# Recommend movies based on content\n",
    "def content_based_recommend(title):\n",
    "    idx = movies.index[movies[\"Title\"] == title][0]\n",
    "    sim_scores = list(enumerate(cosine_sim[idx]))\n",
    "    sim_scores = sorted(sim_scores, key=lambda x: x[1], reverse=True)[1:3]\n",
    "    movie_indices = [i[0] for i in sim_scores]\n",
    "    return movies[\"Title\"].iloc[movie_indices]\n",
    "\n",
    "print(\"\\n✅ Content-Based Recommendation for 'Inception':\")\n",
    "print(content_based_recommend(\"Inception\"))"
   ]
  }
 ],
 "metadata": {
  "kernelspec": {
   "display_name": "Python [conda env:base] *",
   "language": "python",
   "name": "conda-base-py"
  },
  "language_info": {
   "codemirror_mode": {
    "name": "ipython",
    "version": 3
   },
   "file_extension": ".py",
   "mimetype": "text/x-python",
   "name": "python",
   "nbconvert_exporter": "python",
   "pygments_lexer": "ipython3",
   "version": "3.13.5"
  }
 },
 "nbformat": 4,
 "nbformat_minor": 5
}
